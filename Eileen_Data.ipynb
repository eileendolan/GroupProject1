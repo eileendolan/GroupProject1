{
 "cells": [
  {
   "cell_type": "markdown",
   "metadata": {},
   "source": [
    "## 2. Analysis of Genres\n",
    "\n",
    "We want to see whether the genres between movies have an affect on average box office earnings.\n",
    "\n",
    "If so, we want to see which genres lead to the biggest earnings.\n",
    "\n",
    "This will allow us to narrow down which genres are most popular."
   ]
  },
  {
   "cell_type": "code",
   "execution_count": 22,
   "metadata": {},
   "outputs": [],
   "source": [
    "# Import Dependencies\n",
    "import pandas as pd\n",
    "import numpy as np\n",
    "import matplotlib.pyplot as plt\n",
    "import seaborn as sns ; sns.set()\n",
    "import scipy.stats as stats\n",
    "from matplotlib.ticker import PercentFormatter"
   ]
  },
  {
   "cell_type": "code",
   "execution_count": 23,
   "metadata": {
    "scrolled": false
   },
   "outputs": [
    {
     "data": {
      "text/html": [
       "<div>\n",
       "<style scoped>\n",
       "    .dataframe tbody tr th:only-of-type {\n",
       "        vertical-align: middle;\n",
       "    }\n",
       "\n",
       "    .dataframe tbody tr th {\n",
       "        vertical-align: top;\n",
       "    }\n",
       "\n",
       "    .dataframe thead th {\n",
       "        text-align: right;\n",
       "    }\n",
       "</style>\n",
       "<table border=\"1\" class=\"dataframe\">\n",
       "  <thead>\n",
       "    <tr style=\"text-align: right;\">\n",
       "      <th></th>\n",
       "      <th>IMDb ID</th>\n",
       "      <th>Title</th>\n",
       "      <th>Runtime (mins)</th>\n",
       "      <th>Year</th>\n",
       "      <th>Genres</th>\n",
       "      <th>Release Date</th>\n",
       "      <th>IMDb Rating</th>\n",
       "      <th>Metascore</th>\n",
       "      <th>Rating</th>\n",
       "      <th>Box Office</th>\n",
       "    </tr>\n",
       "  </thead>\n",
       "  <tbody>\n",
       "    <tr>\n",
       "      <th>0</th>\n",
       "      <td>tt1872181</td>\n",
       "      <td>The Amazing Spider-Man 2</td>\n",
       "      <td>142</td>\n",
       "      <td>2014</td>\n",
       "      <td>Action, Adventure, Sci-Fi</td>\n",
       "      <td>4/10/2014</td>\n",
       "      <td>6.6</td>\n",
       "      <td>53</td>\n",
       "      <td>PG-13</td>\n",
       "      <td>183277573</td>\n",
       "    </tr>\n",
       "    <tr>\n",
       "      <th>1</th>\n",
       "      <td>tt1323594</td>\n",
       "      <td>Despicable Me</td>\n",
       "      <td>95</td>\n",
       "      <td>2010</td>\n",
       "      <td>Animation, Comedy, Family, Fantasy</td>\n",
       "      <td>6/20/2010</td>\n",
       "      <td>7.7</td>\n",
       "      <td>72</td>\n",
       "      <td>PG</td>\n",
       "      <td>251476985</td>\n",
       "    </tr>\n",
       "    <tr>\n",
       "      <th>2</th>\n",
       "      <td>tt1375670</td>\n",
       "      <td>Grown Ups</td>\n",
       "      <td>102</td>\n",
       "      <td>2010</td>\n",
       "      <td>Comedy</td>\n",
       "      <td>6/24/2010</td>\n",
       "      <td>6.0</td>\n",
       "      <td>30</td>\n",
       "      <td>PG-13</td>\n",
       "      <td>162001186</td>\n",
       "    </tr>\n",
       "    <tr>\n",
       "      <th>3</th>\n",
       "      <td>tt0892769</td>\n",
       "      <td>How to Train Your Dragon</td>\n",
       "      <td>98</td>\n",
       "      <td>2010</td>\n",
       "      <td>Animation, Action, Adventure, Family, Fantasy</td>\n",
       "      <td>3/18/2010</td>\n",
       "      <td>8.1</td>\n",
       "      <td>74</td>\n",
       "      <td>PG</td>\n",
       "      <td>216900000</td>\n",
       "    </tr>\n",
       "    <tr>\n",
       "      <th>4</th>\n",
       "      <td>tt1375666</td>\n",
       "      <td>Inception</td>\n",
       "      <td>148</td>\n",
       "      <td>2010</td>\n",
       "      <td>Action, Adventure, Sci-Fi, Thriller</td>\n",
       "      <td>7/8/2010</td>\n",
       "      <td>8.8</td>\n",
       "      <td>74</td>\n",
       "      <td>PG-13</td>\n",
       "      <td>292568851</td>\n",
       "    </tr>\n",
       "  </tbody>\n",
       "</table>\n",
       "</div>"
      ],
      "text/plain": [
       "     IMDb ID                     Title  Runtime (mins)  Year  \\\n",
       "0  tt1872181  The Amazing Spider-Man 2             142  2014   \n",
       "1  tt1323594             Despicable Me              95  2010   \n",
       "2  tt1375670                 Grown Ups             102  2010   \n",
       "3  tt0892769  How to Train Your Dragon              98  2010   \n",
       "4  tt1375666                 Inception             148  2010   \n",
       "\n",
       "                                          Genres Release Date  IMDb Rating  \\\n",
       "0                      Action, Adventure, Sci-Fi    4/10/2014          6.6   \n",
       "1             Animation, Comedy, Family, Fantasy    6/20/2010          7.7   \n",
       "2                                         Comedy    6/24/2010          6.0   \n",
       "3  Animation, Action, Adventure, Family, Fantasy    3/18/2010          8.1   \n",
       "4            Action, Adventure, Sci-Fi, Thriller     7/8/2010          8.8   \n",
       "\n",
       "   Metascore Rating  Box Office  \n",
       "0         53  PG-13   183277573  \n",
       "1         72     PG   251476985  \n",
       "2         30  PG-13   162001186  \n",
       "3         74     PG   216900000  \n",
       "4         74  PG-13   292568851  "
      ]
     },
     "execution_count": 23,
     "metadata": {},
     "output_type": "execute_result"
    }
   ],
   "source": [
    "# File to Load\n",
    "movie_data = \"Movie_Data.csv\"\n",
    "\n",
    "# Read the Movie Data\n",
    "movie = pd.read_csv('Movie_Data.csv')\n",
    "\n",
    "# Display the data table for preview\n",
    "movie.head()"
   ]
  },
  {
   "cell_type": "code",
   "execution_count": 24,
   "metadata": {
    "scrolled": false
   },
   "outputs": [
    {
     "data": {
      "text/html": [
       "<div>\n",
       "<style scoped>\n",
       "    .dataframe tbody tr th:only-of-type {\n",
       "        vertical-align: middle;\n",
       "    }\n",
       "\n",
       "    .dataframe tbody tr th {\n",
       "        vertical-align: top;\n",
       "    }\n",
       "\n",
       "    .dataframe thead th {\n",
       "        text-align: right;\n",
       "    }\n",
       "</style>\n",
       "<table border=\"1\" class=\"dataframe\">\n",
       "  <thead>\n",
       "    <tr style=\"text-align: right;\">\n",
       "      <th></th>\n",
       "      <th>Genres</th>\n",
       "      <th>Box Office</th>\n",
       "      <th>Year</th>\n",
       "    </tr>\n",
       "  </thead>\n",
       "  <tbody>\n",
       "    <tr>\n",
       "      <th>0</th>\n",
       "      <td>Action, Adventure, Sci-Fi</td>\n",
       "      <td>183277573</td>\n",
       "      <td>2014</td>\n",
       "    </tr>\n",
       "    <tr>\n",
       "      <th>1</th>\n",
       "      <td>Animation, Comedy, Family, Fantasy</td>\n",
       "      <td>251476985</td>\n",
       "      <td>2010</td>\n",
       "    </tr>\n",
       "    <tr>\n",
       "      <th>2</th>\n",
       "      <td>Comedy</td>\n",
       "      <td>162001186</td>\n",
       "      <td>2010</td>\n",
       "    </tr>\n",
       "    <tr>\n",
       "      <th>3</th>\n",
       "      <td>Animation, Action, Adventure, Family, Fantasy</td>\n",
       "      <td>216900000</td>\n",
       "      <td>2010</td>\n",
       "    </tr>\n",
       "    <tr>\n",
       "      <th>4</th>\n",
       "      <td>Action, Adventure, Sci-Fi, Thriller</td>\n",
       "      <td>292568851</td>\n",
       "      <td>2010</td>\n",
       "    </tr>\n",
       "  </tbody>\n",
       "</table>\n",
       "</div>"
      ],
      "text/plain": [
       "                                          Genres  Box Office  Year\n",
       "0                      Action, Adventure, Sci-Fi   183277573  2014\n",
       "1             Animation, Comedy, Family, Fantasy   251476985  2010\n",
       "2                                         Comedy   162001186  2010\n",
       "3  Animation, Action, Adventure, Family, Fantasy   216900000  2010\n",
       "4            Action, Adventure, Sci-Fi, Thriller   292568851  2010"
      ]
     },
     "execution_count": 24,
     "metadata": {},
     "output_type": "execute_result"
    }
   ],
   "source": [
    "#Extract relevant columns\n",
    "movie = movie[['Genres', 'Box Office', 'Year']]\n",
    "movie.head()"
   ]
  },
  {
   "cell_type": "code",
   "execution_count": 25,
   "metadata": {},
   "outputs": [],
   "source": [
    "# Create a genre set containing genre types\n",
    "# Split genres in Genres column using a delimeter\n",
    "# Looping statement and add genre to the genre set unless already present \n",
    "genre_set = set()\n",
    "for row in movie['Genres'].str.split(\", \"):\n",
    "    for genre in row:\n",
    "        if genre not in genre_set:\n",
    "            genre_set.add(genre)    "
   ]
  },
  {
   "cell_type": "code",
   "execution_count": 26,
   "metadata": {
    "scrolled": false
   },
   "outputs": [],
   "source": [
    "# A list containing genres\n",
    "genre_set = list(genre_set)"
   ]
  },
  {
   "cell_type": "code",
   "execution_count": 27,
   "metadata": {
    "scrolled": true
   },
   "outputs": [],
   "source": [
    "# Create box office success list; y-value\n",
    "# Looping statement and mean of each genre\n",
    "averages_list = []\n",
    "for genre in genre_set:\n",
    "    mask = movie[\"Genres\"].str.contains(f'{genre}')==True\n",
    "    avg = movie[mask][\"Box Office\"].mean()\n",
    "    averages_list.append(avg)   "
   ]
  },
  {
   "cell_type": "code",
   "execution_count": null,
   "metadata": {
    "scrolled": true
   },
   "outputs": [],
   "source": [
    "# Covert Box Office to millions\n",
    "averages_list = [x/1000000 for x in averages_list]\n",
    "averages_list"
   ]
  },
  {
   "cell_type": "code",
   "execution_count": null,
   "metadata": {},
   "outputs": [],
   "source": [
    "# Show Genres; x-value\n",
    "genre_set"
   ]
  },
  {
   "cell_type": "code",
   "execution_count": null,
   "metadata": {
    "scrolled": true
   },
   "outputs": [],
   "source": [
    "# Bar Chart to identify top Genres\n",
    "sns.barplot(genre_set, averages_list)\n",
    "sns.despine()\n",
    "plt.xticks(rotation=90);\n",
    "\n",
    "# Add labels to the x and y axes\n",
    "plt.title(\"Top Genres in Box Office\")\n",
    "plt.xlabel(\"Genres\")\n",
    "plt.ylabel(\"Average Box Office (in millions)\")\n",
    "\n",
    "# Set your grid\n",
    "plt.grid()\n",
    "\n",
    "# Tight Layout\n",
    "plt.tight_layout()\n",
    "\n",
    "# Save the plot and display it\n",
    "plt.savefig(\"Top_Genre.png\")\n",
    "\n",
    "# Show figure\n",
    "plt.show()"
   ]
  },
  {
   "cell_type": "markdown",
   "metadata": {},
   "source": [
    "## Genre success over time with a line graph"
   ]
  },
  {
   "cell_type": "code",
   "execution_count": null,
   "metadata": {
    "scrolled": true
   },
   "outputs": [],
   "source": [
    "# Create data frame for all animation genre in Genres column\n",
    "Animation = movie[movie[\"Genres\"].str.contains(\"Animation\")]\n",
    "Animation.head()"
   ]
  },
  {
   "cell_type": "code",
   "execution_count": null,
   "metadata": {},
   "outputs": [],
   "source": [
    "# Average Box Office per year for Animation genre\n",
    "animation2010 = Animation[\"Box Office\"][Animation[\"Year\"] == 2010].mean()\n",
    "animation2011 = Animation[\"Box Office\"][Animation[\"Year\"] == 2011].mean()\n",
    "animation2012 = Animation[\"Box Office\"][Animation[\"Year\"] == 2012].mean()\n",
    "animation2013 = Animation[\"Box Office\"][Animation[\"Year\"] == 2013].mean()\n",
    "animation2014 = Animation[\"Box Office\"][Animation[\"Year\"] == 2014].mean()\n",
    "animation2015 = Animation[\"Box Office\"][Animation[\"Year\"] == 2015].mean()\n",
    "animation2016 = Animation[\"Box Office\"][Animation[\"Year\"] == 2016].mean()"
   ]
  },
  {
   "cell_type": "code",
   "execution_count": null,
   "metadata": {},
   "outputs": [],
   "source": [
    "# Create data frame for all animation genre in Genres column\n",
    "Adventure = movie[movie[\"Genres\"].str.contains(\"Adventure\")]\n",
    "\n",
    "Adventure.head()"
   ]
  },
  {
   "cell_type": "code",
   "execution_count": null,
   "metadata": {},
   "outputs": [],
   "source": [
    "# Average Box Office per year for Animation genre\n",
    "adventure2010 = Adventure[\"Box Office\"][Adventure[\"Year\"] == 2010].mean()\n",
    "adventure2011 = Adventure[\"Box Office\"][Adventure[\"Year\"] == 2011].mean()\n",
    "adventure2012 = Adventure[\"Box Office\"][Adventure[\"Year\"] == 2012].mean()\n",
    "adventure2013 = Adventure[\"Box Office\"][Adventure[\"Year\"] == 2013].mean()\n",
    "adventure2014 = Adventure[\"Box Office\"][Adventure[\"Year\"] == 2014].mean()\n",
    "adventure2015 = Adventure[\"Box Office\"][Adventure[\"Year\"] == 2015].mean()\n",
    "adventure2016 = Adventure[\"Box Office\"][Adventure[\"Year\"] == 2016].mean()"
   ]
  },
  {
   "cell_type": "code",
   "execution_count": null,
   "metadata": {},
   "outputs": [],
   "source": [
    "# Create data frame for all Sci-Fi genre in Genres column\n",
    "SciFi = movie[movie[\"Genres\"].str.contains(\"Sci-Fi\")]\n",
    "SciFi.head()"
   ]
  },
  {
   "cell_type": "code",
   "execution_count": null,
   "metadata": {},
   "outputs": [],
   "source": [
    "scifi2010 = SciFi[\"Box Office\"][SciFi[\"Year\"] == 2010].mean()\n",
    "scifi2011 = SciFi[\"Box Office\"][SciFi[\"Year\"] == 2011].mean()\n",
    "scifi2012 = SciFi[\"Box Office\"][SciFi[\"Year\"] == 2012].mean()\n",
    "scifi2013 = SciFi[\"Box Office\"][SciFi[\"Year\"] == 2013].mean()\n",
    "scifi2014 = SciFi[\"Box Office\"][SciFi[\"Year\"] == 2014].mean()\n",
    "scifi2015 = SciFi[\"Box Office\"][SciFi[\"Year\"] == 2016].mean()\n",
    "scifi2016 = SciFi[\"Box Office\"][SciFi[\"Year\"] == 2016].mean()"
   ]
  },
  {
   "cell_type": "code",
   "execution_count": null,
   "metadata": {
    "scrolled": true
   },
   "outputs": [],
   "source": [
    "# Create data frame for all Family genre in Genres column\n",
    "Family = movie[movie[\"Genres\"].str.contains(\"Family\")]\n",
    "Family.head()"
   ]
  },
  {
   "cell_type": "code",
   "execution_count": null,
   "metadata": {},
   "outputs": [],
   "source": [
    "# Average Box Office per year for Animation genre\n",
    "family2010 = Family[\"Box Office\"][Family[\"Year\"] == 2010].mean()\n",
    "family2011 = Family[\"Box Office\"][Family[\"Year\"] == 2011].mean()\n",
    "family2012 = Family[\"Box Office\"][Family[\"Year\"] == 2012].mean()\n",
    "family2013 = Family[\"Box Office\"][Family[\"Year\"] == 2013].mean()\n",
    "family2014 = Family[\"Box Office\"][Family[\"Year\"] == 2014].mean()\n",
    "family2015 = Family[\"Box Office\"][Family[\"Year\"] == 2016].mean()\n",
    "family2016 = Family[\"Box Office\"][Family[\"Year\"] == 2016].mean()"
   ]
  },
  {
   "cell_type": "code",
   "execution_count": null,
   "metadata": {},
   "outputs": [],
   "source": [
    "# Define x and y values\n",
    "Years = ['2010', '2011', '2012', '2013', '2014', '2015', '2016']\n",
    "animation_list = [animation2010, animation2011, animation2012, animation2013, animation2014, animation2015, animation2016]\n",
    "adventure_list = [adventure2010, adventure2011, adventure2012, adventure2013, adventure2014, adventure2015, adventure2016]\n",
    "scifi_list = [scifi2010, scifi2011, scifi2012, scifi2013, scifi2014, scifi2015, scifi2016]\n",
    "family_list = [family2010, family2011, family2012, family2013, family2014, family2015, family2016]"
   ]
  },
  {
   "cell_type": "code",
   "execution_count": null,
   "metadata": {
    "scrolled": false
   },
   "outputs": [],
   "source": [
    "# Line chart to identify top Genres over Years\n",
    "sns.lineplot(x= Years, y= animation_list, label = \"Animation\")\n",
    "sns.lineplot(x= Years, y=adventure_list, label = \"Adventure\")\n",
    "sns.lineplot(x= Years, y=scifi_list, label = \"Sci-Fi\")\n",
    "sns.lineplot(x= Years, y=family_list, label = \"Family\")\n",
    "\n",
    "# Add labels to the x and y axes\n",
    "plt.title(\"Top Genres in Box Office from 2010 to 2016\")\n",
    "plt.xlabel(\"Year\")\n",
    "plt.ylabel(\"Average Box Office (in millions)\")\n",
    "\n",
    "# Set your grid\n",
    "plt.grid()\n",
    "\n",
    "# Save the figure and display it\n",
    "plt.savefig(\"Top_Genres_Years.png\")\n",
    "\n",
    "# Show figure\n",
    "plt.show()"
   ]
  },
  {
   "cell_type": "markdown",
   "metadata": {},
   "source": [
    "## Observations"
   ]
  },
  {
   "cell_type": "markdown",
   "metadata": {},
   "source": [
    "   1) The top four genres based on box office revenue were animation, adventure, sci-fi, and fantasy. \n",
    "   \n",
    "   2) Animation has the lowest box office revenue in 2015 compared to the other top genres. \n",
    "   \n",
    "   3) Family genre has the lowest box office revenue compared to the other top genres, but it did had a gradual      incline in revenue over the years. "
   ]
  },
  {
   "cell_type": "markdown",
   "metadata": {},
   "source": [
    "## Highlight "
   ]
  },
  {
   "cell_type": "markdown",
   "metadata": {},
   "source": [
    " Althought animation was the top genre with the highest box office revenue between 2010 to 2016, it had a lowest box office revenue in 2015 compared to the other top genres. \n"
   ]
  }
 ],
 "metadata": {
  "kernelspec": {
   "display_name": "Python [conda env:py36]",
   "language": "python",
   "name": "conda-env-py36-py"
  }
 },
 "nbformat": 4,
 "nbformat_minor": 2
}
